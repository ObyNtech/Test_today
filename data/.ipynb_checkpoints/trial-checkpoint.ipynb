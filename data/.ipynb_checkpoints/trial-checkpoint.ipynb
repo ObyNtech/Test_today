{
 "cells": [
  {
   "cell_type": "code",
   "execution_count": 1,
   "id": "40a19b50-06c5-4c68-bf14-e866517a943d",
   "metadata": {},
   "outputs": [],
   "source": [
    "name = \"oby\"\n",
    "age =32"
   ]
  },
  {
   "cell_type": "code",
   "execution_count": 2,
   "id": "1d617ef2-a8f5-413a-aaf4-fc5153c89bbd",
   "metadata": {},
   "outputs": [
    {
     "name": "stdout",
     "output_type": "stream",
     "text": [
      "oby\n"
     ]
    }
   ],
   "source": [
    "print(name)"
   ]
  },
  {
   "cell_type": "code",
   "execution_count": 3,
   "id": "5c77bbed-35be-4670-bddd-7a98360669d6",
   "metadata": {},
   "outputs": [],
   "source": [
    "client_id = [0,1,2,3,4]\n",
    "client_list = ['Gandalf','Han solo','Baby Yoda', 'Ada', 'Oby']\n",
    "client_age = [850, 35, 1, -20, 15]\n",
    "client_wizard_status = [True,False,False,False,True]"
   ]
  },
  {
   "cell_type": "code",
   "execution_count": 4,
   "id": "c51c4f9d-9a6f-4ee8-8ca9-f645dc4030d5",
   "metadata": {},
   "outputs": [
    {
     "name": "stdout",
     "output_type": "stream",
     "text": [
      "0\n",
      "Gandalf, you rock\n",
      "1\n",
      "Han solo, you are in the prime of your life\n",
      "2\n",
      "Baby Yoda, you are in the prime of your life\n",
      "3\n",
      "Ada, you are not born yet\n",
      "4\n",
      "Oby, you are in the prime of your life\n"
     ]
    }
   ],
   "source": [
    "for clt_id in client_id:\n",
    "    print (clt_id)\n",
    "    \n",
    "    name = client_list[clt_id]\n",
    "    age = client_age[clt_id]\n",
    "    \n",
    "    if age <= 0:\n",
    "        print (f\"{name}, you are not born yet\")\n",
    "    elif age > 0 and age <= 35:\n",
    "        print (f\"{name}, you are in the prime of your life\")\n",
    "    else:\n",
    "        print (f\"{name}, you rock\")"
   ]
  },
  {
   "cell_type": "code",
   "execution_count": null,
   "id": "252cbf91-286d-4c34-888c-50ea082ffe92",
   "metadata": {},
   "outputs": [],
   "source": []
  }
 ],
 "metadata": {
  "kernelspec": {
   "display_name": "Python 3 (ipykernel)",
   "language": "python",
   "name": "python3"
  },
  "language_info": {
   "codemirror_mode": {
    "name": "ipython",
    "version": 3
   },
   "file_extension": ".py",
   "mimetype": "text/x-python",
   "name": "python",
   "nbconvert_exporter": "python",
   "pygments_lexer": "ipython3",
   "version": "3.10.9"
  }
 },
 "nbformat": 4,
 "nbformat_minor": 5
}
